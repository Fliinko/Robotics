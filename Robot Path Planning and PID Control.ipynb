{
 "cells": [
  {
   "cell_type": "code",
   "execution_count": 26,
   "metadata": {},
   "outputs": [],
   "source": [
    "import math \n",
    "import copy \n",
    "import matplotlib.pyplot as plt\n",
    "import numpy as np\n",
    "import random"
   ]
  },
  {
   "cell_type": "markdown",
   "metadata": {},
   "source": [
    "# Path Planning"
   ]
  },
  {
   "cell_type": "code",
   "execution_count": 19,
   "metadata": {
    "scrolled": true
   },
   "outputs": [
    {
     "name": "stdout",
     "output_type": "stream",
     "text": [
      "[[0, 0, 0, 0, 0, 0, 0, 0, 0, 0], [0, 0, 0, 0, 0, 0, 0, 0, 0, 0], [0, 0, 0, 0, 0, 0, 0, 0, 0, 0], [0, 0, 0, 0, 0, 0, 0, 0, 0, 0], [0, 0, 0, 0, 0, 0, 0, 0, 0, 0], [0, 0, 0, 0, 0, 0, 0, 0, 0, 0], [0, 0, 0, 0, 0, 0, 0, 0, 0, 0], [0, 0, 0, 0, 0, 0, 0, 0, 0, 0], [0, 0, 0, 0, 0, 0, 0, 0, 0, 0], [0, 0, 0, 0, 0, 0, 0, 0, 0, 0]]\n"
     ]
    }
   ],
   "source": [
    "r = 10\n",
    "c = 10\n",
    "env = [[0]* r]*c\n",
    "\n",
    "#Setting Obstacles \n",
    "obstacles = [[1,1], [1,2], [1,3], [2,1], [3,1], [1,6], [1,7], [1,8], [2,8], [3,8], [6,8], [7,8], [8,8], [8,7], [8,6], [8,3], [8,2], [8,1], [7,1], [6,1], [3,3], [3,4], [3,5], [6,4], [6,5], [6,6]]\n",
    "\n",
    "for x in range(r):\n",
    "    for y in range(c):\n",
    "        \n",
    "        if(env[x][y] == obstacles[x]):\n",
    "            env[x][y] = 1\n",
    "            \n",
    "print(env)"
   ]
  },
  {
   "cell_type": "markdown",
   "metadata": {},
   "source": [
    "Setting the 10x10 Environment as a List of Lists"
   ]
  },
  {
   "cell_type": "code",
   "execution_count": 20,
   "metadata": {},
   "outputs": [],
   "source": [
    "env = [[0,0,0,0,0,0,0,0,0,0],\n",
    "       [0,1,1,1,0,0,1,1,1,0],\n",
    "       [0,1,0,0,0,0,0,0,1,0],\n",
    "       [0,1,0,1,0,0,0,0,1,0],\n",
    "       [0,0,0,1,0,0,1,0,0,0],\n",
    "       [0,0,0,1,0,0,1,0,0,0],\n",
    "       [0,1,0,0,0,0,1,0,1,0],\n",
    "       [0,1,0,0,0,0,0,0,1,0],\n",
    "       [0,1,1,1,0,0,1,1,1,0],\n",
    "       [0,0,0,0,0,0,0,0,0,0]]"
   ]
  },
  {
   "cell_type": "code",
   "execution_count": 22,
   "metadata": {},
   "outputs": [],
   "source": [
    "def AStar(environment, start, end, cost, heuristic):\n",
    "    return 0\n",
    "\n",
    "#AStar(env, [0,3], [9,5], 1, function)"
   ]
  },
  {
   "cell_type": "markdown",
   "metadata": {},
   "source": [
    "# Path Smoothing"
   ]
  },
  {
   "cell_type": "code",
   "execution_count": 23,
   "metadata": {},
   "outputs": [],
   "source": [
    "original_path = [[0, 0], [0, 1], [0, 2], [1, 2], [2, 2], [3, 2], [4, 2], [5, 2], [5, 3], [5, 4], [5, 5]]\n",
    "smooth_path = []"
   ]
  },
  {
   "cell_type": "code",
   "execution_count": 27,
   "metadata": {},
   "outputs": [],
   "source": [
    "def Distance(c1, c2):\n",
    "    return math.sqrt((c1[0] - c2[0])**2 + (c1[1] - c2[1])**2)"
   ]
  },
  {
   "cell_type": "code",
   "execution_count": 24,
   "metadata": {},
   "outputs": [],
   "source": [
    "def Smooth(path, weight_path, weight_smooth, tolerance):\n",
    "\n",
    "    smooth = copy.deepcopy(path)\n",
    "    while True:\n",
    "        for x in range(1, len(path)-1):\n",
    "            for y in range(1, len(path[0])):\n",
    "                line = weight_path*(path[x][y] - smooth[x][y])\n",
    "                alpha = weight_smooth*(smooth[x-1][y] - smooth[x][y])\n",
    "                beta = weight_smooth*(smooth[x+1][y] - smooth[x][y])\n",
    "            \n",
    "                smooth[x][y] = smooth[x][y] + line + alpha + beta\n",
    "\n",
    "        if abs(Distance(path[1], smooth[1])) < tolerance:\n",
    "            print(\"[MSG] Tolerance is Greater...\")\n",
    "            break\n",
    "\n",
    "    #Plotting the lines against eachother\n",
    "    plt.plot(smooth, label = \"Smoothed Line\")\n",
    "    plt.plot(path, label = \"Original Path\")\n",
    "    plt.xlabel('X Axis')\n",
    "    plt.ylabel('Y Axis')\n",
    "    plt.legend()\n",
    "    plt.show()\n",
    "\n",
    "    print(\"Smooth Line: \" + str(smooth))\n",
    "    return smooth"
   ]
  },
  {
   "cell_type": "code",
   "execution_count": 25,
   "metadata": {},
   "outputs": [
    {
     "name": "stdout",
     "output_type": "stream",
     "text": [
      "[MSG] Tolerance is Greater...\n"
     ]
    },
    {
     "data": {
      "image/png": "[encoded data removed]",
      "text/plain": [
       "<Figure size 432x288 with 1 Axes>"
      ]
     },
     "metadata": {
      "needs_background": "light"
     },
     "output_type": "display_data"
    },
    {
     "name": "stdout",
     "output_type": "stream",
     "text": [
      "Smooth Line: [[0, 0], [0, 1.0], [0, 1.9], [1, 1.99], [2, 1.999], [3, 1.9999], [4, 1.99999], [5, 2.099999], [5, 3.0099999], [5, 4.0009999899999995], [5, 5]]\n"
     ]
    },
    {
     "data": {
      "text/plain": [
       "[[0, 0],\n",
       " [0, 1.0],\n",
       " [0, 1.9],\n",
       " [1, 1.99],\n",
       " [2, 1.999],\n",
       " [3, 1.9999],\n",
       " [4, 1.99999],\n",
       " [5, 2.099999],\n",
       " [5, 3.0099999],\n",
       " [5, 4.0009999899999995],\n",
       " [5, 5]]"
      ]
     },
     "execution_count": 25,
     "metadata": {},
     "output_type": "execute_result"
    }
   ],
   "source": [
    "Smooth(original_path, 0.5, 0.1, 0.000001)"
   ]
  },
  {
   "cell_type": "markdown",
   "metadata": {},
   "source": [
    "# PID Control"
   ]
  },
  {
   "cell_type": "code",
   "execution_count": 114,
   "metadata": {},
   "outputs": [],
   "source": [
    "class Robot(object):\n",
    "    \n",
    "    def __init__(self, length= 20.0):\n",
    "        \n",
    "        self.x = 0.0\n",
    "        self.y = 0.0\n",
    "        self.orientation = 0.0\n",
    "        self.length = length\n",
    "        self.steering_noise = 0.0\n",
    "        self.distance_noise = 0.0\n",
    "        self.steering_drift = 0.0\n",
    "        \n",
    "    def set(self, x, y, orientation):\n",
    "        \n",
    "        self.x = x\n",
    "        self.y = y\n",
    "        self.orientation = orientation % (2.0 * np.pi)\n",
    "        \n",
    "    def noise(self, steering_noise, distance_noise):\n",
    "        \n",
    "        self.steering_noise = steering_noise\n",
    "        self.distance_noise = distance_noise\n",
    "        \n",
    "    def set_steering_drift(self, drift):\n",
    "        \n",
    "        self.steering_drift = drift\n",
    "        \n",
    "    def move(self, steering, distance, tolerance = 0.001, maxangle = np.pi/4.0):\n",
    "        \n",
    "        if steering > maxangle:\n",
    "            steering = maxangle\n",
    "        if steering < -maxangle:\n",
    "            steering = -maxangle\n",
    "        if distance < 0.0:\n",
    "            distance = 0.0\n",
    "            \n",
    "        #Applying Noise\n",
    "        steeringnoise = random.gauss(steering, self.steering_noise)\n",
    "        distancenoise = random.gauss(distance, self.distance_noise)\n",
    "        \n",
    "        #Steering Drift\n",
    "        steeringnoise += self.steering_noise\n",
    "        \n",
    "        #Movement\n",
    "        turn = np.tan(steeringnoise)*distancenoise / self.length\n",
    "        \n",
    "        if abs(turn) < tolerance:\n",
    "            \n",
    "            #Approximate via Straight Line Motion\n",
    "            self.x += distancenoise * np.cos(self.orientation)\n",
    "            self.y += distancenoise * np.sin(self.orientation)\n",
    "            self.orientaion = (self.orientation + turn)%(2.0 * np.pi)\n",
    "            \n",
    "        else:\n",
    "            \n",
    "            #Approximate via Bicycle Model for Motion\n",
    "            radius = distancenoise / turn\n",
    "            turnx = self.x - (np.sin(self.orientation) * radius)\n",
    "            turny = self.y + (np.cos(self.orientation) * radius)\n",
    "            self.orientation = (self.orientation + turn) % (2.0 * np.pi)\n",
    "            self.x = turnx + (np.sin(self.orientation) * radius)\n",
    "            self.y = turny - (np.cos(self.orientation) * radius)\n",
    "            \n",
    "    def __repr__(self):\n",
    "        return '[x=%.5f y=%.5f orient=%.5f]' % (self.x, self.y, self.orientation)"
   ]
  },
  {
   "cell_type": "code",
   "execution_count": 141,
   "metadata": {},
   "outputs": [],
   "source": [
    "robot = Robot()\n",
    "robot.set(0,1,0)\n",
    "robot.set_steering_drift(10)"
   ]
  },
  {
   "cell_type": "code",
   "execution_count": 142,
   "metadata": {},
   "outputs": [],
   "source": [
    "def pid_control(robot, tau_p, tau_d, tau_i, n=100, speed = 1.0):\n",
    "    \n",
    "    x_trajec = []\n",
    "    y_trajec = []\n",
    "    \n",
    "    prevcte = robot.y\n",
    "    sum_cte = 0\n",
    "    \n",
    "    for _ in range(n):\n",
    "        \n",
    "        cte = robot.y\n",
    "        cte_diff = cte-prevcte\n",
    "        prevcte = cte\n",
    "        sum_cte += cte\n",
    "        \n",
    "        steer = -tau_p * cte - tau_d * cte_diff - tau_i * sum_cte\n",
    "        robot.move(steer, speed)\n",
    "        \n",
    "        x_trajec.append(robot.x)\n",
    "        y_trajec.append(robot.y)\n",
    "        \n",
    "    return x_trajec, y_trajec"
   ]
  },
  {
   "cell_type": "code",
   "execution_count": 143,
   "metadata": {},
   "outputs": [],
   "source": [
    "x_trajectory, y_trajectory = pid_control(robot, 0.2, 3.0, 0.004)\n",
    "n = len(x_trajectory)"
   ]
  },
  {
   "cell_type": "code",
   "execution_count": 144,
   "metadata": {},
   "outputs": [
    {
     "data": {
      "text/plain": [
       "<matplotlib.legend.Legend at 0x210d0504670>"
      ]
     },
     "execution_count": 144,
     "metadata": {},
     "output_type": "execute_result"
    },
    {
     "data": {
      "image/png": "[encoded data removed]",
      "text/plain": [
       "<Figure size 576x288 with 1 Axes>"
      ]
     },
     "metadata": {
      "needs_background": "light"
     },
     "output_type": "display_data"
    }
   ],
   "source": [
    "fig, ax1 = plt.subplots(1, 1, figsize=(8,4))\n",
    "ax1.plot(x_trajectory, y_trajectory, 'g', label = 'PID Controller')\n",
    "ax1.plot(x_trajectory, np.zeros(n), 'r', label = 'Reference')\n",
    "plt.legend()"
   ]
  },
  {
   "cell_type": "code",
   "execution_count": null,
   "metadata": {},
   "outputs": [],
   "source": []
  }
 ],
 "metadata": {
  "kernelspec": {
   "display_name": "Python 3",
   "language": "python",
   "name": "python3"
  },
  "language_info": {
   "codemirror_mode": {
    "name": "ipython",
    "version": 3
   },
   "file_extension": ".py",
   "mimetype": "text/x-python",
   "name": "python",
   "nbconvert_exporter": "python",
   "pygments_lexer": "ipython3",
   "version": "3.8.8"
  }
 },
 "nbformat": 4,
 "nbformat_minor": 4
}
