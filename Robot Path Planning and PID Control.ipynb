{
 "cells": [
  {
   "cell_type": "code",
   "execution_count": 2,
   "metadata": {},
   "outputs": [],
   "source": [
    "import math \n",
    "import copy \n",
    "import matplotlib.pyplot as plt\n",
    "import numpy as np\n",
    "import random"
   ]
  },
  {
   "cell_type": "markdown",
   "metadata": {},
   "source": [
    "# Path Planning"
   ]
  },
  {
   "cell_type": "markdown",
   "metadata": {},
   "source": [
    "Setting the 10x10 Environment as a List of Lists"
   ]
  },
  {
   "cell_type": "code",
   "execution_count": 5,
   "metadata": {},
   "outputs": [],
   "source": [
    "env = [[0,0,0,0,0,0,0,0,0,0],\n",
    "       [0,1,1,1,0,0,1,1,1,0],\n",
    "       [0,1,0,0,0,0,0,0,1,0],\n",
    "       [0,1,0,1,0,0,0,0,1,0],\n",
    "       [0,0,0,1,0,0,1,0,0,0],\n",
    "       [0,0,0,1,0,0,1,0,0,0],\n",
    "       [0,1,0,0,0,0,1,0,1,0],\n",
    "       [0,1,0,0,0,0,0,0,1,0],\n",
    "       [0,1,1,1,0,0,1,1,1,0],\n",
    "       [0,0,0,0,0,0,0,0,0,0]]\n",
    "\n",
    "heuristic = [[19,18,17,16,15,14,13,12,11,10],\n",
    "             [18,17,16,15,14,13,12,11,10,9],\n",
    "             [17,16,15,14,13,12,11,10,9,8],\n",
    "             [16,15,14,13,12,11,10,9,8,7],\n",
    "             [15,14,13,12,11,10,9,8,7,6],\n",
    "             [14,13,12,11,10,9,8,7,6,5],\n",
    "             [13,12,11,10,9,8,7,6,5,4],\n",
    "             [12,11,10,9,8,7,6,5,4,3],\n",
    "             [11,10,9,8,7,6,5,4,3,2],\n",
    "             [10,9,8,7,6,5,4,3,2,1]]"
   ]
  },
  {
   "cell_type": "code",
   "execution_count": 23,
   "metadata": {},
   "outputs": [],
   "source": [
    "start = [4,0]\n",
    "goal = [5,9]\n",
    "cost = 1"
   ]
  },
  {
   "cell_type": "code",
   "execution_count": 24,
   "metadata": {},
   "outputs": [],
   "source": [
    "delta = [[-1, 0],\n",
    "         [0,-1],\n",
    "         [1, 0],\n",
    "         [0, 1]]\n",
    "\n",
    "delta_name = ['^', '<', 'v', '>']"
   ]
  },
  {
   "cell_type": "code",
   "execution_count": 27,
   "metadata": {},
   "outputs": [
    {
     "name": "stdout",
     "output_type": "stream",
     "text": [
      "['', '', '', '', '', '', '', '', '', '']\n",
      "['', '', '', '', '', '', '', '', '', '']\n",
      "['', '', '>', '>', '>', '>', '>', 'v', '', '']\n",
      "['', '', '^', '', '', '', '', 'v', '', '']\n",
      "['>', '>', '^', '', '', '', '', '>', '>', 'v']\n",
      "['', '', '', '', '', '', '', '', '', '*']\n",
      "['', '', '', '', '', '', '', '', '', '']\n",
      "['', '', '', '', '', '', '', '', '', '']\n",
      "['', '', '', '', '', '', '', '', '', '']\n",
      "['', '', '', '', '', '', '', '', '', '']\n",
      "[19, 14, 5, 5, 9]\n"
     ]
    }
   ],
   "source": [
    "def AStar(environment, start, end, cost, heuristic):\n",
    "    \n",
    "    closed = [[0 for row in range(len(environment[0]))] for col in range(len(environment))]\n",
    "    closed[start[0]][start[1]] = 1 #Starting Location \n",
    "    expand = [[-1 for row in range(len(environment[0]))] for col in range(len(environment))]\n",
    "    dirs = [[ '' for row in range(len(environment[0]))] for col in range(len(environment))]\n",
    "    \n",
    "    x= start[0]\n",
    "    y= start[1]\n",
    "    g = 0\n",
    "    h = heuristic[x][y]\n",
    "    f = g+h\n",
    "    \n",
    "    open = [[f,g,h,x,y]]\n",
    "    \n",
    "    found = False \n",
    "    resign = False\n",
    "    count = 0\n",
    "    \n",
    "    while found is False and resign is False:\n",
    "        \n",
    "        if len(open) == 0:\n",
    "            resign = True\n",
    "            print('Fail')\n",
    "            \n",
    "        else:\n",
    "            open.sort()\n",
    "            open.reverse()\n",
    "            next = open.pop()\n",
    "            g = next[1]\n",
    "            x = next[3]\n",
    "            y = next[4]\n",
    "            \n",
    "            expand[x][y] = count\n",
    "            count += 1\n",
    "            \n",
    "        if x == end[0] and y == end[1]:\n",
    "            found = True\n",
    "            \n",
    "        else:\n",
    "            for i in range(len(delta)):\n",
    "                x2 = x+delta[i][0]\n",
    "                y2 = y+delta[i][1]\n",
    "                \n",
    "                if x2 >= 0 and x2 < len(environment) and y2 >= 0 and y2 < len(environment):\n",
    "                    if closed[x2][y2] == 0 and environment[x2][y2] == 0:\n",
    "                        g2 = g + cost\n",
    "                        h2 = heuristic[x2][y2]\n",
    "                        f2 = g2+h2\n",
    "                        open.append([f2, g2, h2, x2, y2])\n",
    "                        closed[x2][y2] = 1\n",
    "                        dirs[x2][y2] = i\n",
    "                        \n",
    "    policy = [['' for row in range(len(environment[0]))] for col in range(len(environment))]\n",
    "    x = end[0]\n",
    "    y = end[1]\n",
    "    \n",
    "    policy[x][y] = '*'\n",
    "    while x!=start[0] or y!=start[1]:\n",
    "        x2 = x-delta[dirs[x][y]][0]\n",
    "        y2 = y-delta[dirs[x][y]][1]\n",
    "        policy[x2][y2] = delta_name[dirs[x][y]]\n",
    "        x = x2\n",
    "        y = y2\n",
    "        \n",
    "    #for i in range(len(expand)):\n",
    "        #print(expand[i])\n",
    "        \n",
    "    for i in range(len(policy)):\n",
    "        print(policy[i])\n",
    "        \n",
    "    return next\n",
    "        \n",
    "            \n",
    "print(AStar(env,start,goal,cost,heuristic))"
   ]
  },
  {
   "cell_type": "markdown",
   "metadata": {},
   "source": [
    "# Path Smoothing"
   ]
  },
  {
   "cell_type": "code",
   "execution_count": 6,
   "metadata": {},
   "outputs": [],
   "source": [
    "original_path = [[0, 0], [0, 1], [0, 2], [1, 2], [2, 2], [3, 2], [4, 2], [5, 2], [5, 3], [5, 4], [5, 5]]\n",
    "smooth_path = []"
   ]
  },
  {
   "cell_type": "code",
   "execution_count": 7,
   "metadata": {},
   "outputs": [],
   "source": [
    "def Distance(c1, c2):\n",
    "    return math.sqrt((c1[0] - c2[0])**2 + (c1[1] - c2[1])**2)"
   ]
  },
  {
   "cell_type": "code",
   "execution_count": 8,
   "metadata": {},
   "outputs": [],
   "source": [
    "def Smooth(path, weight_path, weight_smooth, tolerance):\n",
    "\n",
    "    smooth = copy.deepcopy(path)\n",
    "    while True:\n",
    "        for x in range(1, len(path)-1):\n",
    "            for y in range(1, len(path[0])):\n",
    "                line = weight_path*(path[x][y] - smooth[x][y])\n",
    "                alpha = weight_smooth*(smooth[x-1][y] - smooth[x][y])\n",
    "                beta = weight_smooth*(smooth[x+1][y] - smooth[x][y])\n",
    "            \n",
    "                smooth[x][y] = smooth[x][y] + line + alpha + beta\n",
    "\n",
    "        if abs(Distance(path[1], smooth[1])) < tolerance:\n",
    "            print(\"[MSG] Tolerance is Greater...\")\n",
    "            break\n",
    "\n",
    "    #Plotting the lines against eachother\n",
    "    plt.plot(smooth, label = \"Smoothed Line\")\n",
    "    plt.plot(path, label = \"Original Path\")\n",
    "    plt.xlabel('X Axis')\n",
    "    plt.ylabel('Y Axis')\n",
    "    plt.legend()\n",
    "    plt.show()\n",
    "\n",
    "    print(\"Smooth Line: \" + str(smooth))\n",
    "    return smooth"
   ]
  },
  {
   "cell_type": "code",
   "execution_count": 9,
   "metadata": {},
   "outputs": [
    {
     "name": "stdout",
     "output_type": "stream",
     "text": [
      "[MSG] Tolerance is Greater...\n"
     ]
    },
    {
     "data": {
      "image/png": "[encoded data removed]",
      "text/plain": [
       "<Figure size 432x288 with 1 Axes>"
      ]
     },
     "metadata": {
      "needs_background": "light"
     },
     "output_type": "display_data"
    },
    {
     "name": "stdout",
     "output_type": "stream",
     "text": [
      "Smooth Line: [[0, 0], [0, 1.0], [0, 1.9], [1, 1.99], [2, 1.999], [3, 1.9999], [4, 1.99999], [5, 2.099999], [5, 3.0099999], [5, 4.0009999899999995], [5, 5]]\n"
     ]
    },
    {
     "data": {
      "text/plain": [
       "[[0, 0],\n",
       " [0, 1.0],\n",
       " [0, 1.9],\n",
       " [1, 1.99],\n",
       " [2, 1.999],\n",
       " [3, 1.9999],\n",
       " [4, 1.99999],\n",
       " [5, 2.099999],\n",
       " [5, 3.0099999],\n",
       " [5, 4.0009999899999995],\n",
       " [5, 5]]"
      ]
     },
     "execution_count": 9,
     "metadata": {},
     "output_type": "execute_result"
    }
   ],
   "source": [
    "Smooth(original_path, 0.5, 0.1, 0.000001)"
   ]
  },
  {
   "cell_type": "markdown",
   "metadata": {},
   "source": [
    "The above line is inverted due to the MatplotLib plot, otherwise it is specified to be exactly as that in the report"
   ]
  },
  {
   "cell_type": "markdown",
   "metadata": {},
   "source": [
    "# PID Control"
   ]
  },
  {
   "cell_type": "code",
   "execution_count": 9,
   "metadata": {},
   "outputs": [],
   "source": [
    "class Robot(object):\n",
    "    \n",
    "    def __init__(self, length= 20.0):\n",
    "        \n",
    "        self.x = 0.0\n",
    "        self.y = 0.0\n",
    "        self.orientation = 0.0\n",
    "        self.length = length\n",
    "        self.steering_noise = 0.0\n",
    "        self.distance_noise = 0.0\n",
    "        self.steering_drift = 0.0\n",
    "        \n",
    "    def set(self, x, y, orientation):\n",
    "        \n",
    "        self.x = x\n",
    "        self.y = y\n",
    "        self.orientation = orientation % (2.0 * np.pi)\n",
    "        \n",
    "    def noise(self, steering_noise, distance_noise):\n",
    "        \n",
    "        self.steering_noise = steering_noise\n",
    "        self.distance_noise = distance_noise\n",
    "        \n",
    "    def set_steering_drift(self, drift):\n",
    "        \n",
    "        self.steering_drift = drift\n",
    "        \n",
    "    def move(self, steering, distance, tolerance = 0.001, maxangle = np.pi/4.0):\n",
    "        \n",
    "        if steering > maxangle:\n",
    "            steering = maxangle\n",
    "        if steering < -maxangle:\n",
    "            steering = -maxangle\n",
    "        if distance < 0.0:\n",
    "            distance = 0.0\n",
    "            \n",
    "        #Applying Noise\n",
    "        steeringnoise = random.gauss(steering, self.steering_noise)\n",
    "        distancenoise = random.gauss(distance, self.distance_noise)\n",
    "        \n",
    "        #Steering Drift\n",
    "        steeringnoise += self.steering_drift\n",
    "        \n",
    "        #Movement\n",
    "        turn = np.tan(steeringnoise)*distancenoise / self.length\n",
    "        \n",
    "        if abs(turn) < tolerance:\n",
    "            \n",
    "            #Approximate via Straight Line Motion\n",
    "            self.x += distancenoise * np.cos(self.orientation)\n",
    "            self.y += distancenoise * np.sin(self.orientation)\n",
    "            self.orientaion = (self.orientation + turn)%(2.0 * np.pi)\n",
    "            \n",
    "        else:\n",
    "            \n",
    "            #Approximate via Bicycle Model for Motion\n",
    "            radius = distancenoise / turn\n",
    "            turnx = self.x - (np.sin(self.orientation) * radius)\n",
    "            turny = self.y + (np.cos(self.orientation) * radius)\n",
    "            self.orientation = (self.orientation + turn) % (2.0 * np.pi)\n",
    "            self.x = turnx + (np.sin(self.orientation) * radius)\n",
    "            self.y = turny - (np.cos(self.orientation) * radius)\n",
    "            \n",
    "    def __repr__(self):\n",
    "        return '[x=%.5f y=%.5f orient=%.5f]' % (self.x, self.y, self.orientation)"
   ]
  },
  {
   "cell_type": "code",
   "execution_count": 14,
   "metadata": {},
   "outputs": [],
   "source": [
    "robot = Robot()\n",
    "robot.set(0,1,0)\n",
    "robot.set_steering_drift(10)"
   ]
  },
  {
   "cell_type": "code",
   "execution_count": 15,
   "metadata": {},
   "outputs": [],
   "source": [
    "def pid_control(robot, tau_p, tau_d, tau_i, n=100, speed = 1.0):\n",
    "    \n",
    "    x_trajec = []\n",
    "    y_trajec = []\n",
    "    \n",
    "    prevcte = robot.y\n",
    "    sum_cte = 0\n",
    "    \n",
    "    for _ in range(n):\n",
    "        \n",
    "        cte = robot.y\n",
    "        cte_diff = cte-prevcte\n",
    "        prevcte = cte\n",
    "        sum_cte += cte\n",
    "        \n",
    "        steer = -tau_p * cte - tau_d * cte_diff - tau_i * sum_cte\n",
    "        robot.move(steer, speed)\n",
    "        \n",
    "        x_trajec.append(robot.x)\n",
    "        y_trajec.append(robot.y)\n",
    "        \n",
    "    return x_trajec, y_trajec"
   ]
  },
  {
   "cell_type": "code",
   "execution_count": 16,
   "metadata": {},
   "outputs": [],
   "source": [
    "x_trajectory, y_trajectory = pid_control(robot, 0.2, 3.0, 0.004)\n",
    "n = len(x_trajectory)"
   ]
  },
  {
   "cell_type": "code",
   "execution_count": 17,
   "metadata": {},
   "outputs": [
    {
     "data": {
      "text/plain": [
       "<matplotlib.legend.Legend at 0x2569d550670>"
      ]
     },
     "execution_count": 17,
     "metadata": {},
     "output_type": "execute_result"
    },
    {
     "data": {
      "image/png": "[encoded data removed]",
      "text/plain": [
       "<Figure size 576x288 with 1 Axes>"
      ]
     },
     "metadata": {
      "needs_background": "light"
     },
     "output_type": "display_data"
    }
   ],
   "source": [
    "fig, ax1 = plt.subplots(1, 1, figsize=(8,4))\n",
    "ax1.plot(x_trajectory, y_trajectory, 'g', label = 'PID Controller')\n",
    "ax1.plot(x_trajectory, np.zeros(n), 'r', label = 'Reference')\n",
    "plt.legend()"
   ]
  },
  {
   "cell_type": "code",
   "execution_count": null,
   "metadata": {},
   "outputs": [],
   "source": []
  }
 ],
 "metadata": {
  "kernelspec": {
   "display_name": "Python 3",
   "language": "python",
   "name": "python3"
  },
  "language_info": {
   "codemirror_mode": {
    "name": "ipython",
    "version": 3
   },
   "file_extension": ".py",
   "mimetype": "text/x-python",
   "name": "python",
   "nbconvert_exporter": "python",
   "pygments_lexer": "ipython3",
   "version": "3.8.8"
  }
 },
 "nbformat": 4,
 "nbformat_minor": 4
}
