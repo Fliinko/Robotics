{
 "cells": [
  {
   "cell_type": "code",
   "execution_count": 1,
   "metadata": {},
   "outputs": [],
   "source": [
    "import math \n",
    "import copy \n",
    "import matplotlib.pyplot as plt\n",
    "import numpy as np"
   ]
  },
  {
   "cell_type": "code",
   "execution_count": 2,
   "metadata": {},
   "outputs": [],
   "source": [
    "original_path = [[0, 0], [0, 1], [0, 2], [1, 2], [2, 2], [3, 2], [4, 2], [5, 2], [5, 3], [5, 4], [5, 5]]\n",
    "smooth_path = []"
   ]
  },
  {
   "cell_type": "code",
   "execution_count": 3,
   "metadata": {},
   "outputs": [],
   "source": [
    "def Distance(c1, c2):\n",
    "    return math.sqrt((c1[0] - c2[0])**2 + (c1[1] - c2[1])**2)"
   ]
  },
  {
   "cell_type": "code",
   "execution_count": 4,
   "metadata": {},
   "outputs": [],
   "source": [
    "def Smooth(path=original_path, weight_path=0.5, weight_smooth=0.1, tolerance=0.000001):\n",
    "\n",
    "    smooth = copy.deepcopy(path)\n",
    "    while True:\n",
    "        for x in range(1, len(path)-1):\n",
    "            for y in range(1, len(path[0])):\n",
    "                line = weight_path*(path[x][y] - smooth[x][y])\n",
    "                alpha = weight_smooth*(smooth[x-1][y] - smooth[x][y])\n",
    "                beta = weight_smooth*(smooth[x+1][y] - smooth[x][y])\n",
    "            \n",
    "                smooth[x][y] = smooth[x][y] + line + alpha + beta\n",
    "\n",
    "        if abs(Distance(path[1], smooth[1])) < tolerance:\n",
    "            print(\"[MSG] Tolerance is Greater...\")\n",
    "            break\n",
    "\n",
    "    #Plotting the lines against eachother\n",
    "    plt.plot(smooth, label = \"Smoothed Line\")\n",
    "    plt.plot(path, label = \"Original Path\")\n",
    "    plt.xlabel('X Axis')\n",
    "    plt.ylabel('Y Axis')\n",
    "    plt.legend()\n",
    "    plt.show()\n",
    "\n",
    "    print(\"Smooth Line: \" + str(smooth))\n",
    "    return smooth"
   ]
  },
  {
   "cell_type": "code",
   "execution_count": 5,
   "metadata": {},
   "outputs": [
    {
     "name": "stdout",
     "output_type": "stream",
     "text": [
      "[MSG] Tolerance is Greater...\n"
     ]
    },
    {
     "data": {
      "image/png": "[encoded data removed]",
      "text/plain": [
       "<Figure size 432x288 with 1 Axes>"
      ]
     },
     "metadata": {
      "needs_background": "light"
     },
     "output_type": "display_data"
    },
    {
     "name": "stdout",
     "output_type": "stream",
     "text": [
      "Smooth Line: [[0, 0], [0, 1.0], [0, 1.9], [1, 1.99], [2, 1.999], [3, 1.9999], [4, 1.99999], [5, 2.099999], [5, 3.0099999], [5, 4.0009999899999995], [5, 5]]\n"
     ]
    },
    {
     "data": {
      "text/plain": [
       "[[0, 0],\n",
       " [0, 1.0],\n",
       " [0, 1.9],\n",
       " [1, 1.99],\n",
       " [2, 1.999],\n",
       " [3, 1.9999],\n",
       " [4, 1.99999],\n",
       " [5, 2.099999],\n",
       " [5, 3.0099999],\n",
       " [5, 4.0009999899999995],\n",
       " [5, 5]]"
      ]
     },
     "execution_count": 5,
     "metadata": {},
     "output_type": "execute_result"
    }
   ],
   "source": [
    "Smooth(original_path, 0.5, 0.1, 0.0000001)"
   ]
  },
  {
   "cell_type": "code",
   "execution_count": null,
   "metadata": {},
   "outputs": [],
   "source": []
  }
 ],
 "metadata": {
  "kernelspec": {
   "display_name": "Python 3",
   "language": "python",
   "name": "python3"
  },
  "language_info": {
   "codemirror_mode": {
    "name": "ipython",
    "version": 3
   },
   "file_extension": ".py",
   "mimetype": "text/x-python",
   "name": "python",
   "nbconvert_exporter": "python",
   "pygments_lexer": "ipython3",
   "version": "3.8.5"
  }
 },
 "nbformat": 4,
 "nbformat_minor": 4
}
