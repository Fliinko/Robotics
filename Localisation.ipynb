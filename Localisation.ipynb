{
 "cells": [
  {
   "cell_type": "code",
   "execution_count": 10,
   "metadata": {},
   "outputs": [],
   "source": [
    "import numpy as np\n",
    "import matplotlib.pyplot as plt\n",
    "from math import *\n",
    "import random"
   ]
  },
  {
   "cell_type": "code",
   "execution_count": 11,
   "metadata": {},
   "outputs": [],
   "source": [
    "landmarks = [[10,10], [190,10], [10,190], [190,190]]\n",
    "world = 200"
   ]
  },
  {
   "cell_type": "code",
   "execution_count": 12,
   "metadata": {},
   "outputs": [
    {
     "data": {
      "image/png": "[encoded data removed]",
      "text/plain": [
       "<Figure size 432x288 with 1 Axes>"
      ]
     },
     "metadata": {
      "needs_background": "light"
     },
     "output_type": "display_data"
    }
   ],
   "source": [
    "#---------Set Up Only For Plot-------------\n",
    "#---------To Be Removed Just Testing--------\n",
    "landmarksX = np.array([10, 190, 10, 190])\n",
    "landmarksY = np.array([10, 10, 190, 190])\n",
    "#------------------------------------------\n",
    "plt.title(\"Environment\")\n",
    "plt.xlabel(\"X Axis -> \")\n",
    "plt.ylabel(\"Y Axis ->\")\n",
    "plt.xlim([0,200])\n",
    "plt.ylim([0,200])\n",
    "plt.scatter(landmarksX, landmarksY)\n",
    "plt.show()"
   ]
  },
  {
   "cell_type": "code",
   "execution_count": 16,
   "metadata": {},
   "outputs": [],
   "source": [
    "class Robot:\n",
    "    def __init__(self):\n",
    "        #Spawn Points and Location\n",
    "        self.x = random.random() * world\n",
    "        self.y = random.random() * world\n",
    "        self.orientation = random.random() * 2.0 * pi\n",
    "        \n",
    "        self.max_steering = pi/4\n",
    "        self.bearing_noise = math.radians(0.1)\n",
    "        self.steering_noise = math.radians(0.1)\n",
    "        self.distance_noise = 5\n",
    "        \n",
    "    def set(self, spawnX, spawnY, orient):\n",
    "        if spawnX < 0 or spawnX >= world:\n",
    "            raise ValueError('[ERR] X Coordinate Out Of Bounds')\n",
    "            \n",
    "        if spawnY < 0 or spawnY >= world:\n",
    "            raise ValueError('[ERR] Y Coordinate Out Of Bounds')\n",
    "            \n",
    "        if orient < 0 or orient >= 2*pi:\n",
    "            raise ValueError('[ERR] Orientation Has To Be in Range 0 -> 2pi')\n",
    "            \n",
    "        self.x = spawnX\n",
    "        self.y = spawnY\n",
    "        self.orientation = orient\n",
    "        \n",
    "    def noise(self, bearing, steering, distance):\n",
    "        self.bearing_noise = float(bearing)\n",
    "        self.steering_noise = float(steering)\n",
    "        self.distance_noise = float(distance)\n",
    "        \n",
    "    def sense(self):\n",
    "        Z = []\n",
    "        for i in range(len(landmarks)):\n",
    "            distribution = sqrt((self.x - landmarks[i][0]) ** 2 + (self.y - landmarks[i][1]) ** 2)\n",
    "            distribution += random.gauss(0, self.noise)\n",
    "            Z.append(distribution)\n",
    "            \n",
    "        return Z\n",
    "            \n",
    "    def move(self, turn, forward):\n",
    "        \n",
    "        if forward &lt == 0:\n",
    "            raise ValueError('[ERR] Cannot Move Backwards')\n",
    "            \n",
    "        #Setting Particle\n",
    "        robot = Robot()\n",
    "        robot.set(x, y, orient)\n",
    "        robot.noise(self.bearing_noise, self.steering_noise, self.distance_noise)\n",
    "        \n",
    "        return robot"
   ]
  },
  {
   "cell_type": "code",
   "execution_count": null,
   "metadata": {},
   "outputs": [],
   "source": []
  }
 ],
 "metadata": {
  "kernelspec": {
   "display_name": "Python 3",
   "language": "python",
   "name": "python3"
  },
  "language_info": {
   "codemirror_mode": {
    "name": "ipython",
    "version": 3
   },
   "file_extension": ".py",
   "mimetype": "text/x-python",
   "name": "python",
   "nbconvert_exporter": "python",
   "pygments_lexer": "ipython3",
   "version": "3.8.5"
  }
 },
 "nbformat": 4,
 "nbformat_minor": 4
}
