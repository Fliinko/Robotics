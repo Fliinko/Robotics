{
 "cells": [
  {
   "cell_type": "code",
   "execution_count": 1,
   "metadata": {},
   "outputs": [],
   "source": [
    "import numpy as np\n",
    "import matplotlib.pyplot as plt\n",
    "from math import *\n",
    "import random"
   ]
  },
  {
   "cell_type": "markdown",
   "metadata": {},
   "source": [
    "Given that the world is set to be 200 centimeters in length, and the landmarks are specified to be 10 centimeters in both the x and y axes apart from the edges"
   ]
  },
  {
   "cell_type": "code",
   "execution_count": 2,
   "metadata": {},
   "outputs": [],
   "source": [
    "landmarks = [[10,10], [190,10], [10,190], [190,190]]\n",
    "world = 200.0"
   ]
  },
  {
   "cell_type": "markdown",
   "metadata": {},
   "source": [
    "The Gaussian Probability is calculated with Mu being the distance to the landmark, sigma being the standard deviation and x being the landmark measured by the robot"
   ]
  },
  {
   "cell_type": "code",
   "execution_count": 3,
   "metadata": {},
   "outputs": [],
   "source": [
    "def Gaussian(mu, sigma, x):\n",
    "    \n",
    "    return exp(- ((mu - x) ** 2) / (sigma ** 2) / 2.0) / sqrt(2.0 * pi * (sigma ** 2))"
   ]
  },
  {
   "cell_type": "code",
   "execution_count": 4,
   "metadata": {},
   "outputs": [],
   "source": [
    "class Robot:\n",
    "    def __init__(self):\n",
    "        #Spawn Points and Location\n",
    "        self.x = random.random() * world\n",
    "        self.y = random.random() * world\n",
    "        self.orientation = random.random() * 2.0 * pi\n",
    "        \n",
    "        self.max_steering = pi/4\n",
    "        self.bearing_noise = radians(0.1)\n",
    "        self.steering_noise = radians(0.1)\n",
    "        self.distance_noise = 5\n",
    "        \n",
    "    #In other words the Robot is Initialized by setting up all the according weights, coordinates and noises\n",
    "    def set(self, spawnX, spawnY, orient):\n",
    "        if spawnX < 0 or spawnX >= world:\n",
    "            raise ValueError('[ERR] X Coordinate Out Of Bounds')\n",
    "            \n",
    "        if spawnY < 0 or spawnY >= world:\n",
    "            raise ValueError('[ERR] Y Coordinate Out Of Bounds')\n",
    "            \n",
    "        if orient < 0 or orient >= 2*pi:\n",
    "            raise ValueError('[ERR] Orientation Has To Be in Range 0 -> PI/4')\n",
    "            \n",
    "        self.x = spawnX\n",
    "        self.y = spawnY\n",
    "        self.orientation = orient\n",
    "        \n",
    "    def noise(self, bearing, steering, distance):\n",
    "        self.bearing_noise = float(bearing)\n",
    "        self.steering_noise = float(steering)\n",
    "        self.distance_noise = float(distance)\n",
    "     \n",
    "    #The environment is sensed by the robot by receiving the distance to the four landmarks. \n",
    "    #Naturally, considering the sensing noise, this is filtered out using a gaussian with an added zero mean.\n",
    "    #An added zero mean, means that the chance that the distance is too short or too long is covered by the gaussian filter\n",
    "    \n",
    "    def sense(self):\n",
    "        Z = []\n",
    "        for i in range(len(landmarks)):\n",
    "            distribution = sqrt((self.x - landmarks[i][0]) ** 2 + (self.y - landmarks[i][1]) ** 2)\n",
    "            distribution += random.gauss(0, self.bearing_noise)\n",
    "            Z.append(distribution)\n",
    "            \n",
    "        return Z\n",
    "    \n",
    "    def StraightLine(self, turn, forward):\n",
    "        self.orientation = turn\n",
    "        self.orientation %= 2*pi\n",
    "        self.x = self.x + (cos(self.orientation) * dist)\n",
    "        self.y = self.y + (sin(self.orientation) * dist)\n",
    "            \n",
    "    def move(self, turn, forward):\n",
    "        \n",
    "        if forward == 0:\n",
    "            raise ValueError('[ERR] Cannot Move Backwards')\n",
    "            \n",
    "        if turn < radians(0.001):\n",
    "            return StraightLine(turn, forward)\n",
    "        \n",
    "        #Turning with added randomness to the turn movement\n",
    "        orientation = self.orientation + float(turn) + random.gauss(0, self.steering_noise)\n",
    "        orientation %= 2*pi\n",
    "        \n",
    "        #Moving with added randomness to the movement\n",
    "        dist = float(forward) + random.gauss(0.0, self.bearing_noise)\n",
    "        x = self.x + (cos(orientation) * dist)\n",
    "        y = self.y + (sin(orientation) * dist)\n",
    "        \n",
    "        #Cyclic Truncate \n",
    "        x %= world   \n",
    "        y %= world\n",
    "        \n",
    "        #Set Particle\n",
    "        res = Robot()\n",
    "        res.set(x, y, orientation)\n",
    "        res.noise(self.bearing_noise, self.steering_noise, self.distance_noise)\n",
    "        return res\n",
    "        \n",
    "    #Considering the Particle Filter, the below function assigns a weight for each particle considering the current measurement\n",
    "    #The Gaussian Probability Filter is used to measure the difference in distance from the predicted to the actual measurements\n",
    "    #The Gaussian acts accordingly with the distance noise in order to avoid division by zero \n",
    "    \n",
    "    def measurement_prob(self, measurement):\n",
    "        \n",
    "        prob = 1.0\n",
    "        \n",
    "        for i in range(len(landmarks)):\n",
    "            dist = sqrt((self.x - landmarks[i][0]) ** 2 + (self.y - landmarks[i][1]) ** 2)\n",
    "            prob *= Gaussian(dist, self.distance_noise, measurement[i])\n",
    "            \n",
    "        return prob\n",
    "    \n",
    "    def __repr__(self):\n",
    "        return '[x=%.6s y=%.6s orient=%.6s]' % (str(self.x), str(self.y), str(self.orientation))"
   ]
  },
  {
   "cell_type": "markdown",
   "metadata": {},
   "source": [
    "Creating a Robot and setting the noise. Afterwards the move and sense functions are tested by trying out random movements and sensing them."
   ]
  },
  {
   "cell_type": "code",
   "execution_count": 5,
   "metadata": {},
   "outputs": [
    {
     "name": "stdout",
     "output_type": "stream",
     "text": [
      "[x=37.579 y=63.028 orient=1.0438]\n",
      "[59.87590854124928, 161.6617886104511, 129.95904196438488, 198.22150125833312]\n"
     ]
    }
   ],
   "source": [
    "#The Below is Simply Testing\n",
    "robot = Robot()\n",
    "robot.noise(0.1, 0.1, 5)\n",
    "\n",
    "#Setting at a random location, with random orientation\n",
    "robot.set(30.0, 50.0, pi/6)\n",
    "robot = robot.move(pi/6, 15.0)\n",
    "print(robot)\n",
    "print(robot.sense())"
   ]
  },
  {
   "cell_type": "code",
   "execution_count": 6,
   "metadata": {},
   "outputs": [],
   "source": [
    "n = 500 #Number of Particles\n",
    "p = [] #List for the Particles\n",
    "\n",
    "for i in range(n):\n",
    "    newrobot = Robot()\n",
    "    newrobot.noise(0.1, 0.1, 5)\n",
    "    p.append(newrobot)\n",
    "    \n",
    "steps = 50 #Steps for the Particles \n",
    "\n",
    "for y in range(steps):\n",
    "    \n",
    "    #Moving the Robot and Sensing the Environment\n",
    "    robot = robot.move(0.1, 5.0)\n",
    "    z = robot.sense()\n",
    "    \n",
    "    #Simulating a Movement for each particle\n",
    "    p2 = []\n",
    "    \n",
    "    for i in range(n):\n",
    "        p2.append(p[i].move(0.1, 5.0))\n",
    "        \n",
    "    p = p2\n",
    "    \n",
    "w = []\n",
    "\n",
    "#Generating weights for the particles in the Particle Filter considering the measurements\n",
    "for i in range(n):\n",
    "    w.append(p[i].measurement_prob(z))"
   ]
  },
  {
   "cell_type": "markdown",
   "metadata": {},
   "source": [
    "## Resampling \n",
    "\n",
    "Resampling is essential for a Particle Filter. In the original Particle Filter, the particles do not have the same lifespan, this is because of the survival rate being dependent on the weight assigned to the particle. After resampling, the large weighted particles are most likely to carry on, whilst the small weighted particles tend to die out. This implies that particles which are very consistent with the measurement sensor stay in the filter with a higher probabilty, and the opposite for the lower importance weight particles."
   ]
  },
  {
   "cell_type": "code",
   "execution_count": 7,
   "metadata": {},
   "outputs": [],
   "source": [
    "p3 = []\n",
    "index = int(random.random()*n)\n",
    "beta = 0.0\n",
    "mw = max(w)\n",
    "\n",
    "for i in range(n):\n",
    "    beta += random.random() *2.0 * mw\n",
    "    \n",
    "    while beta == w[index]:\n",
    "        beta -= w[index]\n",
    "        index = (index + 1)%n\n",
    "        \n",
    "    p3.append(p[index])\n",
    "\n",
    "#A Set of Co-Located Particles \n",
    "p = p3"
   ]
  },
  {
   "cell_type": "markdown",
   "metadata": {},
   "source": [
    "In order to the determine the quality of the solution the Particle Filter provides, the below function is used. The Evalution function takes the current robot and the particle set as parameters in order to compute the average error for each particle relative to the robot's current angle. This function is called at the end of each iteration."
   ]
  },
  {
   "cell_type": "code",
   "execution_count": 8,
   "metadata": {},
   "outputs": [
    {
     "name": "stdout",
     "output_type": "stream",
     "text": [
      "Step =  50 Evaluation =  99.28571782658626\n"
     ]
    }
   ],
   "source": [
    "def Evaluation(r, particle):\n",
    "    \n",
    "    sum = 0.0\n",
    "    \n",
    "    for i in range(len(particle)):\n",
    "        \n",
    "        dx = (particle[i].x - r.x + (world/2.0)) % \\\n",
    "             world - (world/2.0)\n",
    "        dy = (particle[i].y - r.y + (world/2.0)) % \\\n",
    "             world - (world/2.0)\n",
    "        err = sqrt(dx**2 + dy**2)\n",
    "        sum += err\n",
    "        \n",
    "    return sum/float(len(particle))\n",
    " \n",
    "p = p3\n",
    "print('Step = ', steps, 'Evaluation = ', Evaluation(robot, p))"
   ]
  },
  {
   "cell_type": "markdown",
   "metadata": {},
   "source": [
    "## The Below was another attempt to visualize the world, but unsuccessful\n",
    "\n",
    "def Visualization(robot, step, particles, pr, weights):\n",
    "    \n",
    "    plt.figure(\"Robot in World\", figsize = (200, 200))\n",
    "    plt.title(\"Particle Filter with Step: \" + str(step))\n",
    "    \n",
    "    grid = [0, world, 0, world]\n",
    "    plt.axis(grid)\n",
    "    plt.grid(b = True, which = 'major', color = '0,75', linestyle = '--')\n",
    "    plt.xticks([i for i in range(0, int(world), 5)])\n",
    "    plt.yticks([i for i in range(0, int(world), 5)])\n",
    "    \n",
    "    #Drawing Particles \n",
    "    for a in range(len(particles)):\n",
    "        \n",
    "        #Particle\n",
    "        particle = plt.Circle((particles[a].x, particles[a].y), 1., facecolor='#090', edgecolor='#099', alpha=0.5)\n",
    "        plt.gca().add_patch(particle)\n",
    "        \n",
    "        #Particle Orientation\n",
    "        arrow = plt.Arrow(particles[a].x, particles[a].y, 2*cos(particles[a].orientation), 2*sin(particles[a].orientation), alpha = 1., facecolor='#190', edgecolor='#089')\n",
    "        plt.gca().add_patch(arrow)\n",
    "        \n",
    "    #Resampled Particles\n",
    "    for a in range(len(pr)):\n",
    "        \n",
    "        #Particle\n",
    "        circle = plt.Circle((pr[a].x, pr[a].y), 1., facecolor='#127', edgecolor='#255'\n",
    " \n",
    "        #Particle Orientation\n",
    "        arrow = plt.Arrow(pr[a].x, pr[a].y, 2*cos(pr[a].orientation), 2*sin(pr[a].orientation), alpha=1., facecolor='#020', edgecolor='#021')\n",
    "        plt.gca().add_patch(arrow)\n",
    " \n",
    "        \n",
    "    #Landmarks\n",
    "    for b in landmarks:\n",
    "            \n",
    "        landmark = plt.Circle((b[0], b[1]), 1.,  facecolor='#255', edgecolor='#033')\n",
    "        plt.gca().add_patch(landmark)\n",
    "     \n",
    "    #Robot Location\n",
    "    circle = plt.Circle((robot.x, robot.y), 1., facecolor='#098', edgecolor='#098')\n",
    "    plt.gca().add_patch(circle)\n",
    "    \n",
    "    #Robot Orientation\n",
    "    arrow = plt.Arrow(robot.x, robot.y, 2*cos(robot.orientation), 2*sin(robot.orientation), alpha=0.5, facecolor='#000', edgecolor='#000')\n",
    "    plt.gca().add_patch(arrow)\n",
    "    \n",
    "    plt.show()\n",
    "    plt.close()\n",
    "    \n",
    "    \n",
    "#Visualization(robot, steps, p , p3, w)"
   ]
  },
  {
   "cell_type": "code",
   "execution_count": 10,
   "metadata": {},
   "outputs": [
    {
     "name": "stdout",
     "output_type": "stream",
     "text": [
      "Iteration:  0 \n",
      "\n",
      "Robot:  [x=72.402 y=74.057 orient=6.1465]\n",
      "Sense:  [89.49215034796615, 134.0019865913306, 131.6219584096638, 165.358236239092]\n",
      "Evaluation:  79.72656903327156 \n",
      "\n"
     ]
    },
    {
     "data": {
      "image/png": "[encoded data removed]",
      "text/plain": [
       "<Figure size 432x288 with 1 Axes>"
      ]
     },
     "metadata": {
      "needs_background": "light"
     },
     "output_type": "display_data"
    },
    {
     "name": "stdout",
     "output_type": "stream",
     "text": [
      "Iteration:  1 \n",
      "\n",
      "Robot:  [x=192.63 y=78.279 orient=3.0887]\n",
      "Sense:  [195.07034044891986, 68.23013889351222, 214.06922655126488, 111.57630650480644]\n",
      "Evaluation:  49.822132652829175 \n",
      "\n"
     ]
    },
    {
     "data": {
      "image/png": "[encoded data removed]",
      "text/plain": [
       "<Figure size 432x288 with 1 Axes>"
      ]
     },
     "metadata": {
      "needs_background": "light"
     },
     "output_type": "display_data"
    },
    {
     "name": "stdout",
     "output_type": "stream",
     "text": [
      "Iteration:  2 \n",
      "\n",
      "Robot:  [x=185.09 y=75.275 orient=3.5209]\n",
      "Sense:  [186.78975751410883, 65.49724202961809, 209.24322153744825, 114.89230368206366]\n",
      "Evaluation:  55.68317718526671 \n",
      "\n"
     ]
    },
    {
     "data": {
      "image/png": "[encoded data removed]",
      "text/plain": [
       "<Figure size 432x288 with 1 Axes>"
      ]
     },
     "metadata": {
      "needs_background": "light"
     },
     "output_type": "display_data"
    },
    {
     "name": "stdout",
     "output_type": "stream",
     "text": [
      "Iteration:  3 \n",
      "\n",
      "Robot:  [x=88.542 y=186.77 orient=3.8835]\n",
      "Sense:  [193.17803894627662, 203.86125718381297, 78.64159008078052, 101.4239783427164]\n",
      "Evaluation:  99.49986837860887 \n",
      "\n"
     ]
    },
    {
     "data": {
      "image/png": "[encoded data removed]",
      "text/plain": [
       "<Figure size 432x288 with 1 Axes>"
      ]
     },
     "metadata": {
      "needs_background": "light"
     },
     "output_type": "display_data"
    },
    {
     "name": "stdout",
     "output_type": "stream",
     "text": [
      "Iteration:  4 \n",
      "\n",
      "Robot:  [x=101.75 y=171.74 orient=5.4335]\n",
      "Sense:  [185.92604036579803, 184.3139552096646, 93.64599651435287, 90.25574963450522]\n",
      "Evaluation:  102.41058094359337 \n",
      "\n"
     ]
    },
    {
     "data": {
      "image/png": "[encoded data removed]",
      "text/plain": [
       "<Figure size 432x288 with 1 Axes>"
      ]
     },
     "metadata": {
      "needs_background": "light"
     },
     "output_type": "display_data"
    },
    {
     "name": "stdout",
     "output_type": "stream",
     "text": [
      "Iteration:  5 \n",
      "\n",
      "Robot:  [x=159.05 y=163.43 orient=6.1392]\n",
      "Sense:  [213.96288650701325, 156.40299872962956, 151.16894284735304, 40.797067226136704]\n",
      "Evaluation:  64.66218174553455 \n",
      "\n"
     ]
    },
    {
     "data": {
      "image/png": "[encoded data removed]",
      "text/plain": [
       "<Figure size 432x288 with 1 Axes>"
      ]
     },
     "metadata": {
      "needs_background": "light"
     },
     "output_type": "display_data"
    },
    {
     "name": "stdout",
     "output_type": "stream",
     "text": [
      "Iteration:  6 \n",
      "\n",
      "Robot:  [x=20.235 y=194.99 orient=0.4761]\n",
      "Sense:  [185.24042183715974, 250.96259285770114, 11.436646605280144, 169.88071385845504]\n",
      "Evaluation:  70.95683638650041 \n",
      "\n"
     ]
    },
    {
     "data": {
      "image/png": "[encoded data removed]",
      "text/plain": [
       "<Figure size 432x288 with 1 Axes>"
      ]
     },
     "metadata": {
      "needs_background": "light"
     },
     "output_type": "display_data"
    },
    {
     "name": "stdout",
     "output_type": "stream",
     "text": [
      "Iteration:  7 \n",
      "\n",
      "Robot:  [x=22.712 y=16.809 orient=1.4576]\n",
      "Sense:  [14.348434290940807, 167.32563125338515, 173.52963750892192, 240.74498486513426]\n",
      "Evaluation:  92.90577810875452 \n",
      "\n"
     ]
    },
    {
     "data": {
      "image/png": "[encoded data removed]",
      "text/plain": [
       "<Figure size 432x288 with 1 Axes>"
      ]
     },
     "metadata": {
      "needs_background": "light"
     },
     "output_type": "display_data"
    },
    {
     "name": "stdout",
     "output_type": "stream",
     "text": [
      "Iteration:  8 \n",
      "\n",
      "Robot:  [x=4.8467 y=18.254 orient=3.0608]\n",
      "Sense:  [9.830122864046771, 185.36891934546054, 171.80346013798388, 252.46490573430899]\n",
      "Evaluation:  93.77338721181818 \n",
      "\n"
     ]
    },
    {
     "data": {
      "image/png": "[encoded data removed]",
      "text/plain": [
       "<Figure size 432x288 with 1 Axes>"
      ]
     },
     "metadata": {
      "needs_background": "light"
     },
     "output_type": "display_data"
    },
    {
     "name": "stdout",
     "output_type": "stream",
     "text": [
      "Iteration:  9 \n",
      "\n",
      "Robot:  [x=23.567 y=168.86 orient=3.4075]\n",
      "Sense:  [159.43349280644384, 230.12730226209112, 25.06022043309508, 167.6677479064548]\n",
      "Evaluation:  46.00265649593445 \n",
      "\n"
     ]
    },
    {
     "data": {
      "image/png": "[encoded data removed]",
      "text/plain": [
       "<Figure size 432x288 with 1 Axes>"
      ]
     },
     "metadata": {
      "needs_background": "light"
     },
     "output_type": "display_data"
    }
   ],
   "source": [
    "plt.title(\"Environment\")\n",
    "plt.xlabel(\"X Axis -> \")\n",
    "plt.ylabel(\"Y Axis ->\")\n",
    "plt.xlim([0,200])\n",
    "plt.ylim([0,200])\n",
    "\n",
    "\n",
    "for i in range(10):    \n",
    "\n",
    "    pidenom = random.randint(1, 10)\n",
    "    forward = random.randint(1, 200)\n",
    "\n",
    "    robot = robot.move(pi/pidenom, forward)\n",
    "    print(\"Iteration: \", i, \"\\n\")\n",
    "    print(\"Robot: \", robot)\n",
    "\n",
    "    print(\"Sense: \", robot.sense())\n",
    "\n",
    "    print(\"Evaluation: \", Evaluation(robot, p), \"\\n\")\n",
    "    \n",
    "    coordsX = robot.x\n",
    "    coordsY = robot.y\n",
    "    filterX = p[i].x\n",
    "    filterY = p[i].y\n",
    "    \n",
    "    landmarksX = np.array([10, 190, 10, 190, coordsX, filterX])\n",
    "    landmarksY = np.array([10, 10, 190, 190, coordsY, filterY])\n",
    "    plt.scatter(landmarksX, landmarksY)\n",
    "    plt.show()\n"
   ]
  },
  {
   "cell_type": "markdown",
   "metadata": {},
   "source": [
    "## Which parameter in your solution would you consider changing to get a better\n",
    "## approximation of the robot’s exact location? Explain why. What would be the\n",
    "## disadvantages of changing this parameter?\n",
    "\n",
    "\n",
    "Personally, I would opt to change the distance noise parameter. In my understanding, the weighting of the noise being 5 is fairly high considering the world size to be 200x200. In an ideal solution I would aim for my distance noise to be around the 0.5 to 1 area. This implies the disadvantage of efficiency, considering a particle filter of 500 all with a fairly small noise, the algorithm would result in being fairly chaotic and can process a few runtime errors or inaccuracies along with perhaps a much larger runtime speed."
   ]
  },
  {
   "cell_type": "code",
   "execution_count": null,
   "metadata": {},
   "outputs": [],
   "source": []
  }
 ],
 "metadata": {
  "kernelspec": {
   "display_name": "Python 3",
   "language": "python",
   "name": "python3"
  },
  "language_info": {
   "codemirror_mode": {
    "name": "ipython",
    "version": 3
   },
   "file_extension": ".py",
   "mimetype": "text/x-python",
   "name": "python",
   "nbconvert_exporter": "python",
   "pygments_lexer": "ipython3",
   "version": "3.8.5"
  },
  "metadata": {
   "interpreter": {
    "hash": "3fabb650131d2fb6f7545e3f2cc0339cb1856bfd894dd321871fd54e44dac672"
   }
  }
 },
 "nbformat": 4,
 "nbformat_minor": 4
}
